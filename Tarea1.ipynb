{
 "cells": [
  {
   "cell_type": "markdown",
   "metadata": {},
   "source": [
    "# Tarea 1: Jupyter Notebook y Markdown.\n",
    "\n",
    "En este archivo voy a probar las funcionalidades de markdown que se pueden utilizar para dar estilo a nuestros notebooks. "
   ]
  },
  {
   "cell_type": "markdown",
   "metadata": {},
   "source": [
    "# 1. Estilos de texto.\n",
    "\n",
    "Hay Diferentes estilos:\n",
    "\n",
    "# Esto es un título.\n",
    "## Esto es un subtítulo.\n",
    "### Esto es un sub-subtítulo.\n"
   ]
  },
  {
   "cell_type": "markdown",
   "metadata": {},
   "source": [
    "# 2. Énfasis.\n",
    "\n",
    "Podemos dar énfasis con cursivas, negritas o cursiva y negrita o bien tachar un texto.\n",
    "\n",
    "---\n",
    "_Cursiva_ `_cursiva_` o también *cursiva* `*cursiva*`.\n",
    "***\n",
    "__negrita__ `__negrita__` o también **negrita** `**negrita**`.\n",
    "___\n",
    "**_negrita y cursiva_** `**_negrita y cursiva_**` o tambien __*negrita y cursiva*__ `__*negrita y cursiva*__`\n",
    "***\n",
    "~~Este texto está tachado~~  `~~Este texto está tachado~~`\n",
    "___\n",
    "\n",
    "> Esto es una cita\n",
    "\n"
   ]
  },
  {
   "cell_type": "markdown",
   "metadata": {},
   "source": [
    "# 3. Imágenes.\n",
    "\n",
    "Hay diversas opciones para insertar una imagen."
   ]
  },
  {
   "cell_type": "markdown",
   "metadata": {},
   "source": [
    "Esta imagen está en el directorio del notebook:\n",
    "<img src=images.jpg>\n",
    "\n",
    "![imagen](images.jpg \"Título\")"
   ]
  },
  {
   "cell_type": "markdown",
   "metadata": {},
   "source": [
    "Esto es una imagen de la web:\n",
    "<img src=https://2.bp.blogspot.com/-g8NyzjxwEuY/XiWM6ls_DZI/AAAAAAAAFZ4/kMULQXvu9doa2iJn1NaZoTSP4O1sBIW0QCLcBGAsYHQ/s700/arbol_vida.jpg title=\"Esto es un árbol\">\n",
    "\n",
    "\n",
    "O con utilizando otro código:\n",
    "![imagen](https://hipertextual.com/files/2020/01/hipertextual-primer-tren-solar-mundo-es-mas-viejo-que-tu-2020248080.jpg \"Esto es un tren\")"
   ]
  },
  {
   "cell_type": "markdown",
   "metadata": {},
   "source": [
    "# 4. Hiperlinks.\n",
    "\n",
    "También podemos usar hiperlinks. Diferentes formas de generar el enlace. \n"
   ]
  },
  {
   "cell_type": "markdown",
   "metadata": {},
   "source": [
    "Una forma sería esta:\n",
    "\n",
    "Me gusta la fotografía y tengo una [página web con mis fotos][fotos]\n",
    "\n",
    "[fotos]: https://www.julioabril.com"
   ]
  },
  {
   "cell_type": "markdown",
   "metadata": {},
   "source": [
    "O bien, \n",
    "\n",
    "me gusta leer en [ruso](http://www.libroruso.com/)."
   ]
  },
  {
   "cell_type": "markdown",
   "metadata": {},
   "source": [
    "# 5. Listas.\n",
    "\n",
    "Algo que me permite markdown es hacer listas.\n",
    "\n",
    "Listas desordenadas\n",
    "\n",
    "- Esto es una lista.\n",
    "- Esto es de la misma lista.\n",
    " - Este apartado va con la segunda linea\n",
    " - Y este tambien\n",
    "- Esto pertenece a la lista principal.\n",
    "\n",
    "\n",
    "o con números:\n",
    "\n",
    "1. Esto es una lista.\n",
    "2. Esto es de la misma lista.\n",
    " 1. Este apartado va con la segunda linea\n",
    " 2. Y este tambien\n",
    "3. Esto pertenece a la lista principal.\n",
    "\n"
   ]
  },
  {
   "cell_type": "markdown",
   "metadata": {},
   "source": [
    "# 6. Tablas.\n",
    "\n",
    "Markdown nos permite crear tablas."
   ]
  },
  {
   "cell_type": "markdown",
   "metadata": {},
   "source": [
    "|variable 1| variable 2 | variable 3|\n",
    "|:--- | :---: |---:|\n",
    "|obs 1 1 |obs 1 2 |obs 1 3|\n",
    "|obs 2 1 |obs 2 2 |obs 2 3|\n",
    "|obs 3 1 |obs 3 2 |obs 3 3|\n"
   ]
  },
  {
   "cell_type": "markdown",
   "metadata": {},
   "source": [
    "# 7. Primeros cálculos."
   ]
  },
  {
   "cell_type": "markdown",
   "metadata": {},
   "source": [
    "Primeros cálculos con python. (del surso de iniciación de python del cibernarium)"
   ]
  },
  {
   "cell_type": "markdown",
   "metadata": {},
   "source": [
    "\n",
    "Suposem que fem diverses compres a l’any, en total quatre, a una empresa proveïdora que ens ven els seus productes en dòlars. Els imports de les compres són: \n",
    " - 356.75 `$`\n",
    " - 487.45 `$`\n",
    " - 295.83 `$` \n",
    " - 532.00 `$`\n",
    " \n",
    "Canvi de dòlars a euros és de 0,890.\n",
    "\n",
    "Calcula i imprimeix per pantalla les dades següents:\n",
    "\n",
    "* [x] Suma total de les compres en euros\n",
    "+ [x] Mitjana de les quatre compres en euros\n"
   ]
  },
  {
   "cell_type": "code",
   "execution_count": 2,
   "metadata": {},
   "outputs": [
    {
     "name": "stdout",
     "output_type": "stream",
     "text": [
      "El cambio euros/dolar es:0.89\n",
      "1672.03\n",
      "372.026675\n"
     ]
    }
   ],
   "source": [
    "# Compras en dólares\n",
    "\n",
    "compra_1=356.75\n",
    "compra_2=487.45\n",
    "compra_3=295.83\n",
    "compra_4=532.00\n",
    "\n",
    "# Cambio dolar-euro\n",
    "\n",
    "cambio=input('El cambio euros/dolar es:')\n",
    "\n",
    "\n",
    "compras=[compra_1,compra_2,compra_3,compra_4]\n",
    "\n",
    "total=sum(compras)\n",
    "media_euros=total*float(cambio)/len(compras)\n",
    "\n",
    "print(total)\n",
    "print(media_euros)\n"
   ]
  },
  {
   "cell_type": "code",
   "execution_count": null,
   "metadata": {},
   "outputs": [],
   "source": []
  }
 ],
 "metadata": {
  "kernelspec": {
   "display_name": "Python 3",
   "language": "python",
   "name": "python3"
  },
  "language_info": {
   "codemirror_mode": {
    "name": "ipython",
    "version": 3
   },
   "file_extension": ".py",
   "mimetype": "text/x-python",
   "name": "python",
   "nbconvert_exporter": "python",
   "pygments_lexer": "ipython3",
   "version": "3.8.5"
  }
 },
 "nbformat": 4,
 "nbformat_minor": 4
}
